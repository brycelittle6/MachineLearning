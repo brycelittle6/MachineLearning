{
 "cells": [
  {
   "cell_type": "markdown",
   "id": "780f0fb1",
   "metadata": {},
   "source": [
    "# Stroke Prediction"
   ]
  },
  {
   "cell_type": "markdown",
   "id": "51eecb37",
   "metadata": {},
   "source": [
    "##  Environment Set Up"
   ]
  },
  {
   "cell_type": "code",
   "execution_count": 1,
   "id": "adcc7507",
   "metadata": {},
   "outputs": [],
   "source": [
    "import pandas as pd\n",
    "import numpy as np\n",
    "from sklearn.model_selection import train_test_split\n",
    "from sklearn.utils import resample\n",
    "from sklearn.impute import SimpleImputer\n",
    "from sklearn.preprocessing import MinMaxScaler, OneHotEncoder\n",
    "from sklearn.linear_model import LogisticRegression\n",
    "from sklearn.model_selection import cross_val_score\n",
    "from sklearn.metrics import accuracy_score, classification_report, confusion_matrix, roc_curve, auc\n",
    "from sklearn.svm import SVC\n",
    "import matplotlib.pyplot as plt"
   ]
  },
  {
   "cell_type": "markdown",
   "id": "a66022c8",
   "metadata": {},
   "source": [
    "## Import Dataset"
   ]
  },
  {
   "cell_type": "code",
   "execution_count": 2,
   "id": "fbb56c30",
   "metadata": {
    "scrolled": true
   },
   "outputs": [
    {
     "name": "stdout",
     "output_type": "stream",
     "text": [
      "         id  gender   age  hypertension  heart_disease ever_married  \\\n",
      "4673  49833  Female  42.0             0              0          Yes   \n",
      "3232  20375  Female  78.0             0              0          Yes   \n",
      "3694  39834    Male  28.0             0              0           No   \n",
      "1070  42550  Female  81.0             0              0          Yes   \n",
      "4163  19907  Female  52.0             0              0          Yes   \n",
      "\n",
      "          work_type Residence_type  avg_glucose_level   bmi   smoking_status  \\\n",
      "4673       Govt_job          Rural             112.98  37.2  formerly smoked   \n",
      "3232        Private          Urban              78.29  30.1  formerly smoked   \n",
      "3694        Private          Urban              73.27  25.4           smokes   \n",
      "1070  Self-employed          Rural             246.34  21.1     never smoked   \n",
      "4163        Private          Rural              97.05  28.0          Unknown   \n",
      "\n",
      "      stroke  \n",
      "4673       0  \n",
      "3232       0  \n",
      "3694       0  \n",
      "1070       0  \n",
      "4163       0  \n"
     ]
    }
   ],
   "source": [
    "stroke_df = pd.read_csv(\"healthcare_dataset_stroke_data.csv\")\n",
    "\n",
    "stroke_df = stroke_df.sample(frac=1, random_state=1)\n",
    "\n",
    "print(stroke_df.head())"
   ]
  },
  {
   "cell_type": "markdown",
   "id": "e199980a",
   "metadata": {},
   "source": [
    "Here is a brief description of the dataset\n",
    "\n",
    "Attributes\n",
    "\n",
    "-id: unique identifer not needed in our models\n",
    "\n",
    "-gender: Male, female, other\n",
    "\n",
    "-age: age of patient\n",
    "\n",
    "-hypertension: 0 if the patient doesn't have hypertension, 1 if the patient has hypertension\n",
    "\n",
    "-heart_disease: 0 if the patient doesn't have any heart diseases, 1 if the patient has a heart disease\n",
    "\n",
    "-ever_married: \"No\" or \"Yes\"\n",
    "\n",
    "-work_type: \"children\", \"Govt_jov\", \"Never_worked\", \"Private\" or \"Self-employed\"\n",
    "\n",
    "-Residence_type: \"Rural\" or \"Urban\"\n",
    "\n",
    "-avg_glucose_level: average glucose level in blood\n",
    "\n",
    "-bmi: body mass index\n",
    "\n",
    "-smoking_status: \"formerly smoked\", \"never smoked\", \"smokes\" or \"Unknown\"\n",
    "\n",
    "-stroke: 1 if the patient had a stroke or 0 if not"
   ]
  },
  {
   "cell_type": "markdown",
   "id": "617de0c4",
   "metadata": {},
   "source": [
    "## Features Array and Label Array"
   ]
  },
  {
   "cell_type": "code",
   "execution_count": 3,
   "id": "d74848a1",
   "metadata": {},
   "outputs": [
    {
     "name": "stdout",
     "output_type": "stream",
     "text": [
      "Training set - Features: (3066, 10) Labels: (3066,)\n",
      "Validation set - Features: (1022, 10) Labels: (1022,)\n",
      "Test set - Features: (1022, 10) Labels: (1022,)\n"
     ]
    }
   ],
   "source": [
    "feature = stroke_df.drop(columns=['id','stroke'])\n",
    "label = stroke_df['stroke']\n",
    "\n",
    "X_train, X_test, y_train, y_test = train_test_split(feature, label, test_size=0.2, random_state=1, stratify=label)\n",
    "\n",
    "X_train, X_val, y_train, y_val = train_test_split(X_train, y_train, test_size=0.25, random_state=1, stratify=y_train)\n",
    "\n",
    "print(\"Training set - Features:\", X_train.shape, \"Labels:\", y_train.shape)\n",
    "print(\"Validation set - Features:\", X_val.shape, \"Labels:\", y_val.shape)\n",
    "print(\"Test set - Features:\", X_test.shape, \"Labels:\", y_test.shape)"
   ]
  },
  {
   "cell_type": "markdown",
   "id": "a93e7fb9",
   "metadata": {},
   "source": [
    "Seperating Categorical and Numerical features"
   ]
  },
  {
   "cell_type": "code",
   "execution_count": 4,
   "id": "e9d2e4c1",
   "metadata": {},
   "outputs": [
    {
     "name": "stdout",
     "output_type": "stream",
     "text": [
      "Training set - Numerical: (3066, 3) Categorical: (3066, 7)\n",
      "Validation set - Numerical: (1022, 3) Categorical: (1022, 7)\n",
      "Test set - Numerical: (1022, 3) Categorical: (1022, 7)\n"
     ]
    }
   ],
   "source": [
    "categorical_features = ['gender', 'ever_married', 'work_type', 'Residence_type',\n",
    "                        'smoking_status', 'hypertension', 'heart_disease']\n",
    "\n",
    "numerical_features = ['age', 'avg_glucose_level', 'bmi']\n",
    "\n",
    "X_train_categorical = X_train[categorical_features]\n",
    "X_train_numerical = X_train[numerical_features]\n",
    "\n",
    "X_val_categorical = X_val[categorical_features]\n",
    "X_val_numerical = X_val[numerical_features]\n",
    "\n",
    "X_test_categorical = X_test[categorical_features]\n",
    "X_test_numerical = X_test[numerical_features]\n",
    "\n",
    "print(\"Training set - Numerical:\", X_train_numerical.shape, \"Categorical:\", X_train_categorical.shape)\n",
    "print(\"Validation set - Numerical:\", X_val_numerical.shape, \"Categorical:\", X_val_categorical.shape)\n",
    "print(\"Test set - Numerical:\", X_test_numerical.shape, \"Categorical:\", X_test_categorical.shape)"
   ]
  },
  {
   "cell_type": "markdown",
   "id": "4f0ae5b7",
   "metadata": {},
   "source": [
    "# Balancing dataset"
   ]
  },
  {
   "cell_type": "markdown",
   "id": "42a8c141",
   "metadata": {},
   "source": [
    "Balance"
   ]
  },
  {
   "cell_type": "code",
   "execution_count": 5,
   "id": "d90445f8",
   "metadata": {},
   "outputs": [
    {
     "name": "stdout",
     "output_type": "stream",
     "text": [
      "Balanced Training features - Numerical: (298, 3) Categorical: (298, 7)\n",
      "Balanced Training labels: (298,)\n"
     ]
    }
   ],
   "source": [
    "# Combine features and labels for the training set\n",
    "Xy_train = pd.concat([X_train, y_train], axis=1)\n",
    "\n",
    "# Separate majority and minority classes\n",
    "majority_class = Xy_train[Xy_train['stroke'] == 0]\n",
    "minority_class = Xy_train[Xy_train['stroke'] == 1]\n",
    "\n",
    "# Undersample majority class\n",
    "majority_downsampled = resample(majority_class, \n",
    "                                 replace=False,    # Sample without replacement\n",
    "                                 n_samples=len(minority_class),  # Match minority class\n",
    "                                 random_state=42)  # Reproducible results\n",
    "\n",
    "# Combine minority class with downsampled majority class\n",
    "balanced_train_data = pd.concat([majority_downsampled, minority_class])\n",
    "\n",
    "# Separate features and labels again\n",
    "X_train_balanced = balanced_train_data.drop('stroke', axis=1)\n",
    "y_train_balanced = balanced_train_data['stroke']\n",
    "\n",
    "# Separate numerical and categorical features in the balanced training set\n",
    "X_train_balanced_categorical = X_train_balanced[categorical_features]\n",
    "X_train_balanced_numerical = X_train_balanced[numerical_features]\n",
    "\n",
    "# Display the shapes of the balanced datasets\n",
    "print(\"Balanced Training features - Numerical:\", X_train_balanced_numerical.shape, \"Categorical:\", X_train_balanced_categorical.shape)\n",
    "print(\"Balanced Training labels:\", y_train_balanced.shape)\n",
    "\n"
   ]
  },
  {
   "cell_type": "markdown",
   "id": "e09434cd",
   "metadata": {},
   "source": [
    "## Handle missing values"
   ]
  },
  {
   "cell_type": "code",
   "execution_count": 6,
   "id": "517da608",
   "metadata": {},
   "outputs": [],
   "source": [
    "\n",
    "imputer_categorical = SimpleImputer(strategy='most_frequent')\n",
    "\n",
    "X_train_categorical_imputed = imputer_categorical.fit_transform(X_train_balanced_categorical)\n",
    "X_val_categorical_imputed = imputer_categorical.transform(X_val_categorical)\n",
    "X_test_categorical_imputed = imputer_categorical.transform(X_test_categorical)\n",
    "\n",
    "\n",
    "imputer_numerical = SimpleImputer(strategy='mean')\n",
    "scaler = MinMaxScaler()\n",
    "\n",
    "X_train_numerical_scaled = scaler.fit_transform(imputer_numerical.fit_transform(X_train_balanced_numerical))\n",
    "X_val_numerical_scaled = scaler.transform(imputer_numerical.transform(X_val_numerical))\n",
    "X_test_numerical_scaled = scaler.transform(imputer_numerical.transform(X_test_numerical))\n",
    "\n",
    "\n"
   ]
  },
  {
   "cell_type": "markdown",
   "id": "a37f2b61",
   "metadata": {},
   "source": [
    "## One Hot Encoding"
   ]
  },
  {
   "cell_type": "code",
   "execution_count": 7,
   "id": "279fa062",
   "metadata": {},
   "outputs": [],
   "source": [
    "encoder = OneHotEncoder(sparse_output=False, handle_unknown='ignore')\n",
    "\n",
    "X_train_categorical_encoded = encoder.fit_transform(X_train_categorical_imputed)\n",
    "X_val_categorical_encoded = encoder.transform(X_val_categorical_imputed)\n",
    "X_test_categorical_encoded = encoder.transform(X_test_categorical_imputed)\n"
   ]
  },
  {
   "cell_type": "markdown",
   "id": "873d3e36",
   "metadata": {},
   "source": [
    "## Start Building the model"
   ]
  },
  {
   "cell_type": "code",
   "execution_count": 8,
   "id": "0b6071cb",
   "metadata": {},
   "outputs": [
    {
     "name": "stdout",
     "output_type": "stream",
     "text": [
      "Training r^2: 0.7718120805369127\n",
      "CV r^2: 0.7617171717171717\n"
     ]
    }
   ],
   "source": [
    "X_train_processed = np.concatenate([X_train_numerical_scaled, X_train_categorical_encoded], axis=1)\n",
    "X_val_processed = np.concatenate([X_val_numerical_scaled, X_val_categorical_encoded], axis=1)\n",
    "X_test_processed = np.concatenate([X_test_numerical_scaled, X_test_categorical_encoded], axis=1)\n",
    "\n",
    "lr_model = LogisticRegression()\n",
    "lr_model.fit(X_train_processed, y_train_balanced)\n",
    "\n",
    "scores = cross_val_score(lr_model, X_train_processed, y_train_balanced, cv=3)\n",
    "\n",
    "print(f'Training r^2: {lr_model.score(X_train_processed, y_train_balanced)}')\n",
    "print(f'CV r^2: {scores.mean()}')"
   ]
  },
  {
   "cell_type": "markdown",
   "id": "ec313c13",
   "metadata": {},
   "source": [
    "## Model Performance"
   ]
  },
  {
   "cell_type": "code",
   "execution_count": 9,
   "id": "12571351",
   "metadata": {
    "scrolled": true
   },
   "outputs": [
    {
     "name": "stdout",
     "output_type": "stream",
     "text": [
      "              precision    recall  f1-score   support\n",
      "\n",
      "           0       0.98      0.72      0.83       972\n",
      "           1       0.12      0.74      0.21        50\n",
      "\n",
      "    accuracy                           0.72      1022\n",
      "   macro avg       0.55      0.73      0.52      1022\n",
      "weighted avg       0.94      0.72      0.80      1022\n",
      "\n",
      "Confusion Matrix:\n",
      "[[699 273]\n",
      " [ 13  37]]\n"
     ]
    }
   ],
   "source": [
    "y_val_pred = lr_model.predict(X_val_processed)\n",
    "\n",
    "conf_matrix = confusion_matrix(y_val, y_val_pred)\n",
    "\n",
    "report = classification_report(y_val, y_val_pred)\n",
    "\n",
    "print(report)\n",
    "print(\"Confusion Matrix:\")\n",
    "print(conf_matrix)"
   ]
  },
  {
   "cell_type": "markdown",
   "id": "d8ad10e1",
   "metadata": {},
   "source": [
    "the confusion matrix shows that the model has correctly predicted 699 cases of no stroke and 37 cases of stroke. However, it has also made 273 incorrect predictions of stroke and 13 incorrect predictions of no stroke."
   ]
  },
  {
   "cell_type": "markdown",
   "id": "63b547cd",
   "metadata": {},
   "source": [
    "## Lets Try Something else"
   ]
  },
  {
   "cell_type": "markdown",
   "id": "c186ac1c",
   "metadata": {},
   "source": [
    "Support Vector Machine and feature selection"
   ]
  },
  {
   "cell_type": "code",
   "execution_count": 10,
   "id": "d884be59",
   "metadata": {},
   "outputs": [
    {
     "name": "stdout",
     "output_type": "stream",
     "text": [
      "              precision    recall  f1-score   support\n",
      "\n",
      "           0       0.98      0.71      0.82       972\n",
      "           1       0.12      0.76      0.20        50\n",
      "\n",
      "    accuracy                           0.71      1022\n",
      "   macro avg       0.55      0.73      0.51      1022\n",
      "weighted avg       0.94      0.71      0.79      1022\n",
      "\n",
      "[[686 286]\n",
      " [ 12  38]]\n"
     ]
    }
   ],
   "source": [
    "X_train_selected = X_train_balanced_categorical.drop(columns=['ever_married', 'Residence_type','work_type'])\n",
    "X_val_selected = X_val_categorical.drop(columns=['ever_married', 'Residence_type','work_type'])\n",
    "X_test_selected = X_test_categorical.drop(columns=['ever_married', 'Residence_type', 'work_type'])\n",
    "\n",
    "encoder = OneHotEncoder(sparse_output=False, handle_unknown='ignore')\n",
    "\n",
    "X_train_categorical_encoded = encoder.fit_transform(X_train_selected)\n",
    "X_val_categorical_encoded = encoder.transform(X_val_selected)\n",
    "X_test_categorical_encoded = encoder.transform(X_test_selected)\n",
    "\n",
    "\n",
    "X_train_processed = np.concatenate([X_train_numerical_scaled, X_train_categorical_encoded], axis=1)\n",
    "X_val_processed = np.concatenate([X_val_numerical_scaled, X_val_categorical_encoded], axis=1)\n",
    "X_test_processed = np.concatenate([X_test_numerical_scaled, X_test_categorical_encoded], axis=1)\n",
    "\n",
    "svm_model = SVC()\n",
    "svm_model.fit(X_train_processed, y_train_balanced)\n",
    "\n",
    "y_pred_selected = svm_model.predict(X_val_processed)\n",
    "y_pred = svm_model.predict(X_val_processed)\n",
    "\n",
    "print(classification_report(y_val, y_pred_selected))\n",
    "print(confusion_matrix(y_val, y_pred))"
   ]
  },
  {
   "cell_type": "code",
   "execution_count": 11,
   "id": "af67aea8",
   "metadata": {},
   "outputs": [
    {
     "name": "stdout",
     "output_type": "stream",
     "text": [
      "              precision    recall  f1-score   support\n",
      "\n",
      "           0       0.98      0.71      0.82       972\n",
      "           1       0.12      0.76      0.20        50\n",
      "\n",
      "    accuracy                           0.71      1022\n",
      "   macro avg       0.55      0.73      0.51      1022\n",
      "weighted avg       0.94      0.71      0.79      1022\n",
      "\n",
      "[[688 284]\n",
      " [ 12  38]]\n"
     ]
    }
   ],
   "source": [
    "y_scores = svm_model.decision_function(X_val_processed)\n",
    "\n",
    "threshold = 0.01\n",
    "y_pred_adjusted = (y_scores > threshold).astype(int)\n",
    "\n",
    "print(classification_report(y_val, y_pred_adjusted))\n",
    "print(confusion_matrix(y_val, y_pred_adjusted))\n",
    "\n",
    "\n"
   ]
  },
  {
   "cell_type": "markdown",
   "id": "cefbddf1",
   "metadata": {},
   "source": [
    "We haven't really done anything significant to better our model\n",
    "\n",
    "Lets try finding better hyperparameters"
   ]
  },
  {
   "cell_type": "markdown",
   "id": "9010dccc",
   "metadata": {},
   "source": [
    "## Finding best parameters"
   ]
  },
  {
   "cell_type": "code",
   "execution_count": 16,
   "id": "508adff9",
   "metadata": {
    "scrolled": true
   },
   "outputs": [
    {
     "name": "stdout",
     "output_type": "stream",
     "text": [
      "Fitting 5 folds for each of 20 candidates, totalling 100 fits\n",
      "[CV] END ..........................C=26, gamma=1, kernel=rbf; total time=   0.0s\n",
      "[CV] END ..........................C=26, gamma=1, kernel=rbf; total time=   0.0s\n",
      "[CV] END ..........................C=26, gamma=1, kernel=rbf; total time=   0.0s\n",
      "[CV] END ..........................C=26, gamma=1, kernel=rbf; total time=   0.0s\n",
      "[CV] END ..........................C=26, gamma=1, kernel=rbf; total time=   0.0s\n",
      "[CV] END ........................C=26, gamma=0.1, kernel=rbf; total time=   0.0s\n",
      "[CV] END ........................C=26, gamma=0.1, kernel=rbf; total time=   0.0s\n",
      "[CV] END ........................C=26, gamma=0.1, kernel=rbf; total time=   0.0s\n",
      "[CV] END ........................C=26, gamma=0.1, kernel=rbf; total time=   0.0s\n",
      "[CV] END ........................C=26, gamma=0.1, kernel=rbf; total time=   0.0s\n",
      "[CV] END .......................C=26, gamma=0.01, kernel=rbf; total time=   0.0s\n",
      "[CV] END .......................C=26, gamma=0.01, kernel=rbf; total time=   0.0s\n",
      "[CV] END .......................C=26, gamma=0.01, kernel=rbf; total time=   0.0s\n",
      "[CV] END .......................C=26, gamma=0.01, kernel=rbf; total time=   0.0s\n",
      "[CV] END .......................C=26, gamma=0.01, kernel=rbf; total time=   0.0s\n",
      "[CV] END ......................C=26, gamma=0.001, kernel=rbf; total time=   0.0s\n",
      "[CV] END ......................C=26, gamma=0.001, kernel=rbf; total time=   0.0s\n",
      "[CV] END ......................C=26, gamma=0.001, kernel=rbf; total time=   0.0s\n",
      "[CV] END ......................C=26, gamma=0.001, kernel=rbf; total time=   0.0s\n",
      "[CV] END ......................C=26, gamma=0.001, kernel=rbf; total time=   0.0s\n",
      "[CV] END ..........................C=27, gamma=1, kernel=rbf; total time=   0.0s\n",
      "[CV] END ..........................C=27, gamma=1, kernel=rbf; total time=   0.0s\n",
      "[CV] END ..........................C=27, gamma=1, kernel=rbf; total time=   0.0s\n",
      "[CV] END ..........................C=27, gamma=1, kernel=rbf; total time=   0.0s\n",
      "[CV] END ..........................C=27, gamma=1, kernel=rbf; total time=   0.0s\n",
      "[CV] END ........................C=27, gamma=0.1, kernel=rbf; total time=   0.0s\n",
      "[CV] END ........................C=27, gamma=0.1, kernel=rbf; total time=   0.0s\n",
      "[CV] END ........................C=27, gamma=0.1, kernel=rbf; total time=   0.0s\n",
      "[CV] END ........................C=27, gamma=0.1, kernel=rbf; total time=   0.0s\n",
      "[CV] END ........................C=27, gamma=0.1, kernel=rbf; total time=   0.0s\n",
      "[CV] END .......................C=27, gamma=0.01, kernel=rbf; total time=   0.0s\n",
      "[CV] END .......................C=27, gamma=0.01, kernel=rbf; total time=   0.0s\n",
      "[CV] END .......................C=27, gamma=0.01, kernel=rbf; total time=   0.0s\n",
      "[CV] END .......................C=27, gamma=0.01, kernel=rbf; total time=   0.0s\n",
      "[CV] END .......................C=27, gamma=0.01, kernel=rbf; total time=   0.0s\n",
      "[CV] END ......................C=27, gamma=0.001, kernel=rbf; total time=   0.0s\n",
      "[CV] END ......................C=27, gamma=0.001, kernel=rbf; total time=   0.0s\n",
      "[CV] END ......................C=27, gamma=0.001, kernel=rbf; total time=   0.0s\n",
      "[CV] END ......................C=27, gamma=0.001, kernel=rbf; total time=   0.0s\n",
      "[CV] END ......................C=27, gamma=0.001, kernel=rbf; total time=   0.0s\n",
      "[CV] END ..........................C=28, gamma=1, kernel=rbf; total time=   0.0s\n",
      "[CV] END ..........................C=28, gamma=1, kernel=rbf; total time=   0.0s\n",
      "[CV] END ..........................C=28, gamma=1, kernel=rbf; total time=   0.0s\n",
      "[CV] END ..........................C=28, gamma=1, kernel=rbf; total time=   0.0s\n",
      "[CV] END ..........................C=28, gamma=1, kernel=rbf; total time=   0.0s\n",
      "[CV] END ........................C=28, gamma=0.1, kernel=rbf; total time=   0.0s\n",
      "[CV] END ........................C=28, gamma=0.1, kernel=rbf; total time=   0.0s\n",
      "[CV] END ........................C=28, gamma=0.1, kernel=rbf; total time=   0.0s\n",
      "[CV] END ........................C=28, gamma=0.1, kernel=rbf; total time=   0.0s\n",
      "[CV] END ........................C=28, gamma=0.1, kernel=rbf; total time=   0.0s\n",
      "[CV] END .......................C=28, gamma=0.01, kernel=rbf; total time=   0.0s\n",
      "[CV] END .......................C=28, gamma=0.01, kernel=rbf; total time=   0.0s\n",
      "[CV] END .......................C=28, gamma=0.01, kernel=rbf; total time=   0.0s\n",
      "[CV] END .......................C=28, gamma=0.01, kernel=rbf; total time=   0.0s\n",
      "[CV] END .......................C=28, gamma=0.01, kernel=rbf; total time=   0.0s\n",
      "[CV] END ......................C=28, gamma=0.001, kernel=rbf; total time=   0.0s\n",
      "[CV] END ......................C=28, gamma=0.001, kernel=rbf; total time=   0.0s\n",
      "[CV] END ......................C=28, gamma=0.001, kernel=rbf; total time=   0.0s\n",
      "[CV] END ......................C=28, gamma=0.001, kernel=rbf; total time=   0.0s\n",
      "[CV] END ......................C=28, gamma=0.001, kernel=rbf; total time=   0.0s\n",
      "[CV] END ..........................C=29, gamma=1, kernel=rbf; total time=   0.0s\n",
      "[CV] END ..........................C=29, gamma=1, kernel=rbf; total time=   0.0s\n",
      "[CV] END ..........................C=29, gamma=1, kernel=rbf; total time=   0.0s\n",
      "[CV] END ..........................C=29, gamma=1, kernel=rbf; total time=   0.0s\n",
      "[CV] END ..........................C=29, gamma=1, kernel=rbf; total time=   0.0s\n",
      "[CV] END ........................C=29, gamma=0.1, kernel=rbf; total time=   0.0s\n",
      "[CV] END ........................C=29, gamma=0.1, kernel=rbf; total time=   0.0s\n",
      "[CV] END ........................C=29, gamma=0.1, kernel=rbf; total time=   0.0s\n",
      "[CV] END ........................C=29, gamma=0.1, kernel=rbf; total time=   0.0s\n",
      "[CV] END ........................C=29, gamma=0.1, kernel=rbf; total time=   0.0s\n",
      "[CV] END .......................C=29, gamma=0.01, kernel=rbf; total time=   0.0s\n",
      "[CV] END .......................C=29, gamma=0.01, kernel=rbf; total time=   0.0s\n",
      "[CV] END .......................C=29, gamma=0.01, kernel=rbf; total time=   0.0s\n",
      "[CV] END .......................C=29, gamma=0.01, kernel=rbf; total time=   0.0s\n",
      "[CV] END .......................C=29, gamma=0.01, kernel=rbf; total time=   0.0s\n",
      "[CV] END ......................C=29, gamma=0.001, kernel=rbf; total time=   0.0s\n",
      "[CV] END ......................C=29, gamma=0.001, kernel=rbf; total time=   0.0s\n",
      "[CV] END ......................C=29, gamma=0.001, kernel=rbf; total time=   0.0s\n",
      "[CV] END ......................C=29, gamma=0.001, kernel=rbf; total time=   0.0s\n",
      "[CV] END ......................C=29, gamma=0.001, kernel=rbf; total time=   0.0s\n",
      "[CV] END ..........................C=30, gamma=1, kernel=rbf; total time=   0.0s\n",
      "[CV] END ..........................C=30, gamma=1, kernel=rbf; total time=   0.0s\n",
      "[CV] END ..........................C=30, gamma=1, kernel=rbf; total time=   0.0s\n",
      "[CV] END ..........................C=30, gamma=1, kernel=rbf; total time=   0.0s\n",
      "[CV] END ..........................C=30, gamma=1, kernel=rbf; total time=   0.0s\n",
      "[CV] END ........................C=30, gamma=0.1, kernel=rbf; total time=   0.0s\n",
      "[CV] END ........................C=30, gamma=0.1, kernel=rbf; total time=   0.0s\n",
      "[CV] END ........................C=30, gamma=0.1, kernel=rbf; total time=   0.0s\n",
      "[CV] END ........................C=30, gamma=0.1, kernel=rbf; total time=   0.0s\n",
      "[CV] END ........................C=30, gamma=0.1, kernel=rbf; total time=   0.0s\n",
      "[CV] END .......................C=30, gamma=0.01, kernel=rbf; total time=   0.0s\n",
      "[CV] END .......................C=30, gamma=0.01, kernel=rbf; total time=   0.0s\n",
      "[CV] END .......................C=30, gamma=0.01, kernel=rbf; total time=   0.0s\n",
      "[CV] END .......................C=30, gamma=0.01, kernel=rbf; total time=   0.0s\n",
      "[CV] END .......................C=30, gamma=0.01, kernel=rbf; total time=   0.0s\n",
      "[CV] END ......................C=30, gamma=0.001, kernel=rbf; total time=   0.0s\n",
      "[CV] END ......................C=30, gamma=0.001, kernel=rbf; total time=   0.0s\n",
      "[CV] END ......................C=30, gamma=0.001, kernel=rbf; total time=   0.0s\n",
      "[CV] END ......................C=30, gamma=0.001, kernel=rbf; total time=   0.0s\n",
      "[CV] END ......................C=30, gamma=0.001, kernel=rbf; total time=   0.0s\n",
      "{'C': 27, 'gamma': 0.01, 'kernel': 'rbf'}\n"
     ]
    }
   ],
   "source": [
    "from sklearn.model_selection import GridSearchCV\n",
    "\n",
    "param_grid = {'C': [26,27,28,29,30], 'gamma': [1, 0.1, 0.01, 0.001], 'kernel': ['rbf']}\n",
    "\n",
    "grid = GridSearchCV(SVC(), param_grid, refit=True, verbose=2)\n",
    "grid.fit(X_train_processed, y_train_balanced)\n",
    "\n",
    "print(grid.best_params_)"
   ]
  },
  {
   "cell_type": "markdown",
   "id": "1eed5ec4",
   "metadata": {},
   "source": [
    "Lets apply those parameters"
   ]
  },
  {
   "cell_type": "code",
   "execution_count": 13,
   "id": "63b0b929",
   "metadata": {},
   "outputs": [
    {
     "name": "stdout",
     "output_type": "stream",
     "text": [
      "              precision    recall  f1-score   support\n",
      "\n",
      "           0       0.99      0.70      0.82       972\n",
      "           1       0.12      0.82      0.21        50\n",
      "\n",
      "    accuracy                           0.70      1022\n",
      "   macro avg       0.55      0.76      0.51      1022\n",
      "weighted avg       0.94      0.70      0.79      1022\n",
      "\n",
      "[[676 296]\n",
      " [  9  41]]\n"
     ]
    }
   ],
   "source": [
    "\n",
    "svm_model_adjusted = SVC(C=27, gamma=0.01, kernel='rbf')\n",
    "svm_model_adjusted.fit(X_train_processed, y_train_balanced)\n",
    "\n",
    "\n",
    "y_pred_selected = svm_model_adjusted.predict(X_val_processed)\n",
    "print(classification_report(y_val, y_pred_selected))\n",
    "print(confusion_matrix(y_val, y_pred_selected))"
   ]
  },
  {
   "cell_type": "markdown",
   "id": "27ad8d2d",
   "metadata": {},
   "source": [
    "## Perform on unseen data"
   ]
  },
  {
   "cell_type": "code",
   "execution_count": 14,
   "id": "fc76c7bb",
   "metadata": {
    "scrolled": true
   },
   "outputs": [
    {
     "name": "stdout",
     "output_type": "stream",
     "text": [
      "              precision    recall  f1-score   support\n",
      "\n",
      "           0       0.99      0.73      0.84       972\n",
      "           1       0.13      0.82      0.23        50\n",
      "\n",
      "    accuracy                           0.73      1022\n",
      "   macro avg       0.56      0.77      0.53      1022\n",
      "weighted avg       0.95      0.73      0.81      1022\n",
      "\n",
      "[[706 266]\n",
      " [  9  41]]\n"
     ]
    }
   ],
   "source": [
    "y_test_pred = svm_model_adjusted.predict(X_test_processed)\n",
    "\n",
    "print(classification_report(y_test, y_test_pred))\n",
    "print(confusion_matrix(y_test,y_test_pred))"
   ]
  },
  {
   "cell_type": "markdown",
   "id": "e0cd82d9",
   "metadata": {},
   "source": [
    "## ROC Curve"
   ]
  },
  {
   "cell_type": "code",
   "execution_count": 15,
   "id": "b2245f99",
   "metadata": {},
   "outputs": [
    {
     "data": {
      "image/png": "[encoded data removed]",
      "text/plain": [
       "<Figure size 640x480 with 1 Axes>"
      ]
     },
     "metadata": {},
     "output_type": "display_data"
    }
   ],
   "source": [
    "y_test_prob_default = svm_model.decision_function(X_test_processed)\n",
    "y_test_prob_adjusted = svm_model_adjusted.decision_function(X_test_processed)\n",
    "\n",
    "\n",
    "fpr_default, tpr_default, _ = roc_curve(y_test, y_test_prob_default)\n",
    "roc_auc_default = auc(fpr_default, tpr_default)\n",
    "\n",
    "\n",
    "fpr_adjusted, tpr_adjusted, _ = roc_curve(y_test, y_test_prob_adjusted)\n",
    "roc_auc_adjusted = auc(fpr_adjusted, tpr_adjusted)\n",
    "\n",
    "\n",
    "plt.figure()\n",
    "lw = 2\n",
    "plt.plot(fpr_default, tpr_default, color='orange', lw=lw, label='Default SVM (AUC = %0.2f)' % roc_auc_default)\n",
    "plt.plot(fpr_adjusted, tpr_adjusted, color='green', lw=lw, label='Tuned SVM (AUC = %0.2f)' % roc_auc_adjusted)\n",
    "plt.plot([0, 1], [0, 1], color='navy', lw=lw, linestyle='--')\n",
    "plt.xlim([0.0, 1.0])\n",
    "plt.ylim([0.0, 1.05])\n",
    "plt.xlabel('False Positive Rate')\n",
    "plt.ylabel('True Positive Rate')\n",
    "plt.title('ROC Curve')\n",
    "plt.legend(loc=\"lower right\")\n",
    "plt.show()"
   ]
  }
 ],
 "metadata": {
  "kernelspec": {
   "display_name": "Python 3 (ipykernel)",
   "language": "python",
   "name": "python3"
  },
  "language_info": {
   "codemirror_mode": {
    "name": "ipython",
    "version": 3
   },
   "file_extension": ".py",
   "mimetype": "text/x-python",
   "name": "python",
   "nbconvert_exporter": "python",
   "pygments_lexer": "ipython3",
   "version": "3.11.4"
  }
 },
 "nbformat": 4,
 "nbformat_minor": 5
}
